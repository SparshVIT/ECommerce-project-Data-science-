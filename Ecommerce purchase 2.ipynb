{
 "cells": [
  {
   "cell_type": "code",
   "execution_count": 1,
   "id": "2ca62ff0",
   "metadata": {},
   "outputs": [],
   "source": [
    "import pandas as pd"
   ]
  },
  {
   "cell_type": "code",
   "execution_count": 2,
   "id": "cd86c408",
   "metadata": {},
   "outputs": [],
   "source": [
    "data = pd.read_csv(r'C:\\Users\\hp\\Downloads\\purchase_data_exe.csv')"
   ]
  },
  {
   "cell_type": "code",
   "execution_count": 11,
   "id": "639720e8",
   "metadata": {},
   "outputs": [
    {
     "data": {
      "text/html": [
       "<div>\n",
       "<style scoped>\n",
       "    .dataframe tbody tr th:only-of-type {\n",
       "        vertical-align: middle;\n",
       "    }\n",
       "\n",
       "    .dataframe tbody tr th {\n",
       "        vertical-align: top;\n",
       "    }\n",
       "\n",
       "    .dataframe thead th {\n",
       "        text-align: right;\n",
       "    }\n",
       "</style>\n",
       "<table border=\"1\" class=\"dataframe\">\n",
       "  <thead>\n",
       "    <tr style=\"text-align: right;\">\n",
       "      <th></th>\n",
       "      <th>date</th>\n",
       "      <th>customer_id</th>\n",
       "      <th>product_category</th>\n",
       "      <th>payment_method</th>\n",
       "      <th>value [USD]</th>\n",
       "      <th>time_on_site [Minutes]</th>\n",
       "      <th>clicks_in_site</th>\n",
       "      <th>Unnamed: 7</th>\n",
       "    </tr>\n",
       "  </thead>\n",
       "  <tbody>\n",
       "    <tr>\n",
       "      <th>0</th>\n",
       "      <td>20/11/2018</td>\n",
       "      <td>37077</td>\n",
       "      <td>505</td>\n",
       "      <td>credit</td>\n",
       "      <td>49.53</td>\n",
       "      <td>12.0</td>\n",
       "      <td>8</td>\n",
       "      <td>NaN</td>\n",
       "    </tr>\n",
       "    <tr>\n",
       "      <th>1</th>\n",
       "      <td>20/11/2018</td>\n",
       "      <td>59173</td>\n",
       "      <td>509</td>\n",
       "      <td>paypal</td>\n",
       "      <td>50.61</td>\n",
       "      <td>25.9</td>\n",
       "      <td>8</td>\n",
       "      <td>NaN</td>\n",
       "    </tr>\n",
       "    <tr>\n",
       "      <th>2</th>\n",
       "      <td>20/11/2018</td>\n",
       "      <td>41066</td>\n",
       "      <td>507</td>\n",
       "      <td>credit</td>\n",
       "      <td>85.99</td>\n",
       "      <td>34.9</td>\n",
       "      <td>11</td>\n",
       "      <td>NaN</td>\n",
       "    </tr>\n",
       "    <tr>\n",
       "      <th>3</th>\n",
       "      <td>20/11/2018</td>\n",
       "      <td>50741</td>\n",
       "      <td>506</td>\n",
       "      <td>credit</td>\n",
       "      <td>34.60</td>\n",
       "      <td>16.5</td>\n",
       "      <td>9</td>\n",
       "      <td>NaN</td>\n",
       "    </tr>\n",
       "    <tr>\n",
       "      <th>4</th>\n",
       "      <td>20/11/2018</td>\n",
       "      <td>53639</td>\n",
       "      <td>515</td>\n",
       "      <td>paypal</td>\n",
       "      <td>266.27</td>\n",
       "      <td>43.1</td>\n",
       "      <td>30</td>\n",
       "      <td>NaN</td>\n",
       "    </tr>\n",
       "  </tbody>\n",
       "</table>\n",
       "</div>"
      ],
      "text/plain": [
       "         date  customer_id  product_category payment_method  value [USD]  \\\n",
       "0  20/11/2018        37077               505         credit        49.53   \n",
       "1  20/11/2018        59173               509         paypal        50.61   \n",
       "2  20/11/2018        41066               507         credit        85.99   \n",
       "3  20/11/2018        50741               506         credit        34.60   \n",
       "4  20/11/2018        53639               515         paypal       266.27   \n",
       "\n",
       "   time_on_site [Minutes]  clicks_in_site  Unnamed: 7  \n",
       "0                    12.0               8         NaN  \n",
       "1                    25.9               8         NaN  \n",
       "2                    34.9              11         NaN  \n",
       "3                    16.5               9         NaN  \n",
       "4                    43.1              30         NaN  "
      ]
     },
     "execution_count": 11,
     "metadata": {},
     "output_type": "execute_result"
    }
   ],
   "source": [
    "data.head()"
   ]
  },
  {
   "cell_type": "code",
   "execution_count": 14,
   "id": "05433e76",
   "metadata": {},
   "outputs": [
    {
     "data": {
      "text/plain": [
       "RangeIndex(start=0, stop=24999, step=1)"
      ]
     },
     "execution_count": 14,
     "metadata": {},
     "output_type": "execute_result"
    }
   ],
   "source": [
    "data.index # number of rows"
   ]
  },
  {
   "cell_type": "code",
   "execution_count": 17,
   "id": "1cc0b7b1",
   "metadata": {},
   "outputs": [
    {
     "data": {
      "text/plain": [
       "8"
      ]
     },
     "execution_count": 17,
     "metadata": {},
     "output_type": "execute_result"
    }
   ],
   "source": [
    "len(data.columns)"
   ]
  },
  {
   "cell_type": "markdown",
   "id": "619856e4",
   "metadata": {},
   "source": [
    "**average of value[USD]**"
   ]
  },
  {
   "cell_type": "code",
   "execution_count": 18,
   "id": "1d309822",
   "metadata": {},
   "outputs": [
    {
     "data": {
      "text/plain": [
       "203.24876315052603"
      ]
     },
     "execution_count": 18,
     "metadata": {},
     "output_type": "execute_result"
    }
   ],
   "source": [
    "data['value [USD]'].mean()"
   ]
  },
  {
   "cell_type": "markdown",
   "id": "fc815705",
   "metadata": {},
   "source": [
    "**max and min value**"
   ]
  },
  {
   "cell_type": "code",
   "execution_count": 19,
   "id": "bc4b88f1",
   "metadata": {},
   "outputs": [
    {
     "data": {
      "text/plain": [
       "0.0"
      ]
     },
     "execution_count": 19,
     "metadata": {},
     "output_type": "execute_result"
    }
   ],
   "source": [
    "data['value [USD]'].min()"
   ]
  },
  {
   "cell_type": "code",
   "execution_count": 20,
   "id": "d194f60b",
   "metadata": {},
   "outputs": [
    {
     "data": {
      "text/plain": [
       "2177.04"
      ]
     },
     "execution_count": 20,
     "metadata": {},
     "output_type": "execute_result"
    }
   ],
   "source": [
    "data['value [USD]'].max()"
   ]
  },
  {
   "cell_type": "markdown",
   "id": "f306d884",
   "metadata": {},
   "source": [
    "**how many people have adopted the paypal as their payment method**"
   ]
  },
  {
   "cell_type": "code",
   "execution_count": 25,
   "id": "d9f0d067",
   "metadata": {},
   "outputs": [
    {
     "data": {
      "text/plain": [
       "paypal    10540\n",
       "Name: payment_method, dtype: int64"
      ]
     },
     "execution_count": 25,
     "metadata": {},
     "output_type": "execute_result"
    }
   ],
   "source": [
    "data[data['payment_method']=='paypal']['payment_method'].value_counts()"
   ]
  },
  {
   "cell_type": "markdown",
   "id": "29d63637",
   "metadata": {},
   "source": [
    "**now lets check that how many purchases has done on 20/11/2018**"
   ]
  },
  {
   "cell_type": "code",
   "execution_count": 27,
   "id": "fa51a0c2",
   "metadata": {},
   "outputs": [
    {
     "data": {
      "text/plain": [
       "20/11/2018    2211\n",
       "Name: date, dtype: int64"
      ]
     },
     "execution_count": 27,
     "metadata": {},
     "output_type": "execute_result"
    }
   ],
   "source": [
    "data[data['date']=='20/11/2018']['date'].value_counts()"
   ]
  },
  {
   "cell_type": "markdown",
   "id": "567952a3",
   "metadata": {},
   "source": [
    "**lets find the most common clicks in site**"
   ]
  },
  {
   "cell_type": "code",
   "execution_count": 31,
   "id": "d20b43cc",
   "metadata": {},
   "outputs": [
    {
     "data": {
      "text/plain": [
       "7     3249\n",
       "6     2354\n",
       "8     2256\n",
       "9     1828\n",
       "10    1543\n",
       "Name: clicks_in_site, dtype: int64"
      ]
     },
     "execution_count": 31,
     "metadata": {},
     "output_type": "execute_result"
    }
   ],
   "source": [
    "data['clicks_in_site'].value_counts().head()"
   ]
  },
  {
   "cell_type": "markdown",
   "id": "31e94620",
   "metadata": {},
   "source": [
    "**the customer id with 56369 adopted which of payment method**"
   ]
  },
  {
   "cell_type": "code",
   "execution_count": 32,
   "id": "e072f10f",
   "metadata": {},
   "outputs": [
    {
     "data": {
      "text/plain": [
       "22285    paypal\n",
       "Name: payment_method, dtype: object"
      ]
     },
     "execution_count": 32,
     "metadata": {},
     "output_type": "execute_result"
    }
   ],
   "source": [
    "data[data['customer_id']==56369]['payment_method']"
   ]
  },
  {
   "cell_type": "markdown",
   "id": "2fbcecb8",
   "metadata": {},
   "source": [
    "**how many people have spent time more than 20 minutes on site**"
   ]
  },
  {
   "cell_type": "code",
   "execution_count": 36,
   "id": "0db4b083",
   "metadata": {},
   "outputs": [
    {
     "data": {
      "text/plain": [
       "date                      14637\n",
       "customer_id               14637\n",
       "product_category          14637\n",
       "payment_method            14637\n",
       "value [USD]               14637\n",
       "time_on_site [Minutes]    14637\n",
       "clicks_in_site            14637\n",
       "Unnamed: 7                    0\n",
       "dtype: int64"
      ]
     },
     "execution_count": 36,
     "metadata": {},
     "output_type": "execute_result"
    }
   ],
   "source": [
    "data[data['time_on_site [Minutes]']>20.0].count()"
   ]
  }
 ],
 "metadata": {
  "kernelspec": {
   "display_name": "Python 3 (ipykernel)",
   "language": "python",
   "name": "python3"
  },
  "language_info": {
   "codemirror_mode": {
    "name": "ipython",
    "version": 3
   },
   "file_extension": ".py",
   "mimetype": "text/x-python",
   "name": "python",
   "nbconvert_exporter": "python",
   "pygments_lexer": "ipython3",
   "version": "3.9.0"
  }
 },
 "nbformat": 4,
 "nbformat_minor": 5
}
